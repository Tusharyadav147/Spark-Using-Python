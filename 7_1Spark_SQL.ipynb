{
 "cells": [
  {
   "cell_type": "code",
   "execution_count": null,
   "metadata": {},
   "outputs": [],
   "source": [
    "from pyspark.sql import SparkSession\n",
    "\n",
    "# Create a Spark session\n",
    "spark = SparkSession.builder.appName(\"SyntheticData\").getOrCreate()\n",
    "\n",
    "# Load synthetic data into a PySpark DataFrame\n",
    "pyspark_df = spark.read.csv('synthetic_user_activity_data.csv', header=True, inferSchema=True)\n",
    "\n",
    "# Register the DataFrame as a temporary SQL table\n",
    "pyspark_df.createOrReplaceTempView(\"user_activity\")\n",
    "\n",
    "# Perform analysis using SQL queries\n",
    "result = spark.sql(\"\"\"\n",
    "    SELECT user_id, SUM(duration) AS total_duration\n",
    "    FROM user_activity\n",
    "    GROUP BY user_id\n",
    "    ORDER BY total_duration DESC\n",
    "\"\"\")\n",
    "\n",
    "# Show the result\n",
    "result.show()\n"
   ]
  }
 ],
 "metadata": {
  "language_info": {
   "name": "python"
  }
 },
 "nbformat": 4,
 "nbformat_minor": 2
}
