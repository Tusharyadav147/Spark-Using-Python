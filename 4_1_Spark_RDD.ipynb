{
  "cells": [
    {
      "cell_type": "code",
      "execution_count": 1,
      "metadata": {
        "colab": {
          "base_uri": "https://localhost:8080/"
        },
        "id": "7OKivavECbXF",
        "outputId": "379cb5e4-ae68-48de-9376-5e55f5474201"
      },
      "outputs": [
        {
          "name": "stdout",
          "output_type": "stream",
          "text": [
            "Collecting pyspark\n",
            "  Downloading pyspark-3.5.0.tar.gz (316.9 MB)\n",
            "\u001b[2K     \u001b[90m━━━━━━━━━━━━━━━━━━━━━━━━━━━━━━━━━━━━━━━━\u001b[0m \u001b[32m316.9/316.9 MB\u001b[0m \u001b[31m2.1 MB/s\u001b[0m eta \u001b[36m0:00:00\u001b[0m\n",
            "\u001b[?25h  Preparing metadata (setup.py) ... \u001b[?25l\u001b[?25hdone\n",
            "Requirement already satisfied: py4j==0.10.9.7 in /usr/local/lib/python3.10/dist-packages (from pyspark) (0.10.9.7)\n",
            "Building wheels for collected packages: pyspark\n",
            "  Building wheel for pyspark (setup.py) ... \u001b[?25l\u001b[?25hdone\n",
            "  Created wheel for pyspark: filename=pyspark-3.5.0-py2.py3-none-any.whl size=317425344 sha256=66a710fcdad108b61514d064f8495882a8967f7f1a82903771fb664f26709caa\n",
            "  Stored in directory: /root/.cache/pip/wheels/41/4e/10/c2cf2467f71c678cfc8a6b9ac9241e5e44a01940da8fbb17fc\n",
            "Successfully built pyspark\n",
            "Installing collected packages: pyspark\n",
            "Successfully installed pyspark-3.5.0\n"
          ]
        }
      ],
      "source": [
        "!pip install pyspark"
      ]
    },
    {
      "cell_type": "code",
      "execution_count": 2,
      "metadata": {
        "id": "LtHonoz7CqWV"
      },
      "outputs": [],
      "source": [
        "from pyspark import SparkConf, SparkContext"
      ]
    },
    {
      "cell_type": "code",
      "execution_count": 3,
      "metadata": {
        "id": "38Z_Y9p9C43m"
      },
      "outputs": [],
      "source": [
        "if __name__ == \"__main__\":\n",
        "  conf = SparkConf().setAppName(\"Tushar\").setMaster(\"local[3]\")\n",
        "  sc = SparkContext(conf = conf)"
      ]
    },
    {
      "cell_type": "code",
      "execution_count": 19,
      "metadata": {
        "id": "GSZtQM14DtSS"
      },
      "outputs": [],
      "source": [
        "# Sample data for demonstration\n",
        "data = [\n",
        "    (\"A\", 1),\n",
        "    (\"B\", 2),\n",
        "    (\"A\", 3),\n",
        "    (\"B\", 4),\n",
        "    (\"C\", 5),\n",
        "    (\"A\", 6),\n",
        "    (\"C\", 7),\n",
        "    (\"A\", 8),\n",
        "    (\"B\", 9),\n",
        "    (\"C\", 10),\n",
        "]"
      ]
    },
    {
      "cell_type": "code",
      "execution_count": 20,
      "metadata": {
        "id": "y3KgUoP1FJIf"
      },
      "outputs": [],
      "source": [
        "# Create an RDD from the sample data\n",
        "rdd = sc.parallelize(data)"
      ]
    },
    {
      "cell_type": "code",
      "execution_count": 21,
      "metadata": {
        "id": "wLU7A5x_FK1_"
      },
      "outputs": [],
      "source": [
        "# Transformation 1: groupBy\n",
        "grouped_data = rdd.groupBy(lambda x: x[0])"
      ]
    },
    {
      "cell_type": "code",
      "execution_count": 22,
      "metadata": {
        "colab": {
          "base_uri": "https://localhost:8080/"
        },
        "id": "ZO88zaBHFNlw",
        "outputId": "2427dc24-9732-4581-a73f-a51edd868558"
      },
      "outputs": [
        {
          "name": "stdout",
          "output_type": "stream",
          "text": [
            "groupBy:\n",
            "Key: B, Values: [('B', 2), ('B', 4), ('B', 9)]\n",
            "Key: C, Values: [('C', 5), ('C', 7), ('C', 10)]\n",
            "Key: A, Values: [('A', 1), ('A', 3), ('A', 6), ('A', 8)]\n"
          ]
        }
      ],
      "source": [
        "# Display the result of groupBy\n",
        "print(\"groupBy:\")\n",
        "for key, values in grouped_data.collect():\n",
        "    print(f\"Key: {key}, Values: {list(values)}\")"
      ]
    },
    {
      "cell_type": "code",
      "execution_count": 30,
      "metadata": {
        "id": "4EqSYzSlGQVI"
      },
      "outputs": [],
      "source": [
        "# Transformation 2: groupByKey\n",
        "grouped_by_key = rdd.groupByKey()"
      ]
    },
    {
      "cell_type": "code",
      "execution_count": 31,
      "metadata": {
        "colab": {
          "base_uri": "https://localhost:8080/"
        },
        "id": "wuvcnFELGr6v",
        "outputId": "8fa3cf14-2e0f-4b4a-fa99-28013dbb8314"
      },
      "outputs": [
        {
          "name": "stdout",
          "output_type": "stream",
          "text": [
            "\n",
            "groupByKey:\n",
            "Key: B, Values: [2, 4, 9]\n",
            "Key: C, Values: [5, 7, 10]\n",
            "Key: A, Values: [1, 3, 6, 8]\n"
          ]
        }
      ],
      "source": [
        "# Display the result of groupByKey\n",
        "print(\"\\ngroupByKey:\")\n",
        "for key, values in grouped_by_key.collect():\n",
        "    print(f\"Key: {key}, Values: {list(values)}\")"
      ]
    },
    {
      "cell_type": "code",
      "execution_count": 32,
      "metadata": {
        "id": "fEeX0tiqGt1X"
      },
      "outputs": [],
      "source": [
        "# Transformation 3: reduceByKey\n",
        "sum_values = rdd.reduceByKey(lambda x, y: x + y)"
      ]
    },
    {
      "cell_type": "code",
      "execution_count": 35,
      "metadata": {
        "colab": {
          "base_uri": "https://localhost:8080/"
        },
        "id": "Igj9yhweHAua",
        "outputId": "44a266b2-62c7-432c-ddb2-6d9a11d8d384"
      },
      "outputs": [
        {
          "data": {
            "text/plain": [
              "[('B', 15), ('C', 22), ('A', 18)]"
            ]
          },
          "execution_count": 35,
          "metadata": {},
          "output_type": "execute_result"
        }
      ],
      "source": [
        "sum_values.collect()"
      ]
    },
    {
      "cell_type": "code",
      "execution_count": 33,
      "metadata": {
        "colab": {
          "base_uri": "https://localhost:8080/"
        },
        "id": "wBCwJXYTG53Y",
        "outputId": "2849472a-bd31-4ea4-ec47-33fa0d8d599b"
      },
      "outputs": [
        {
          "name": "stdout",
          "output_type": "stream",
          "text": [
            "\n",
            "reduceByKey:\n",
            "Key: B, Sum: 15\n",
            "Key: C, Sum: 22\n",
            "Key: A, Sum: 18\n"
          ]
        }
      ],
      "source": [
        "# Display the result of reduceByKey\n",
        "print(\"\\nreduceByKey:\")\n",
        "for key, value in sum_values.collect():\n",
        "    print(f\"Key: {key}, Sum: {value}\")"
      ]
    },
    {
      "cell_type": "markdown",
      "metadata": {
        "id": "w_1VnxMjOMAx"
      },
      "source": [
        "Imagine you have a large dataset containing social media posts from various users. Each entry includes information about the user, the post content, and the number of likes and shares."
      ]
    },
    {
      "cell_type": "code",
      "execution_count": 36,
      "metadata": {
        "id": "GWdtVN_yG-p4"
      },
      "outputs": [],
      "source": [
        "# Load social media data from files into RDD\n",
        "social_media_data = sc.textFile(\"social_media_data.txt\")"
      ]
    },
    {
      "cell_type": "code",
      "execution_count": 39,
      "metadata": {
        "colab": {
          "base_uri": "https://localhost:8080/"
        },
        "id": "Q5oh-CfxMmTp",
        "outputId": "22639af3-b1b3-4719-9d72-883642a59af9"
      },
      "outputs": [
        {
          "data": {
            "text/plain": [
              "10000"
            ]
          },
          "execution_count": 39,
          "metadata": {},
          "output_type": "execute_result"
        }
      ],
      "source": [
        "social_media_data.count()"
      ]
    },
    {
      "cell_type": "code",
      "execution_count": 41,
      "metadata": {
        "colab": {
          "base_uri": "https://localhost:8080/"
        },
        "id": "gIZdv5PPMxDY",
        "outputId": "d2dc3559-df47-416f-f9e3-0a45a16a0767"
      },
      "outputs": [
        {
          "data": {
            "text/plain": [
              "['user4\\taHjurVmhYPQprrcM1h4i #PySpark #Analytics\\t86\\t29',\n",
              " 'user1\\tAc2nRoef6LoHl7b6HfJe #MachineLearning\\t71\\t7',\n",
              " 'user3\\tbnkzmGbjG0FEvYhGGpWx #PySpark #DataScience #MachineLearning\\t49\\t40']"
            ]
          },
          "execution_count": 41,
          "metadata": {},
          "output_type": "execute_result"
        }
      ],
      "source": [
        "social_media_data.take(3)"
      ]
    },
    {
      "cell_type": "code",
      "execution_count": 37,
      "metadata": {
        "id": "c8RmIe7HMfto"
      },
      "outputs": [],
      "source": [
        "# Parse each social media entry and extract relevant information\n",
        "def parse_social_media_entry(entry):\n",
        "    # Assuming a tab-separated format with user, post content, likes, and shares\n",
        "    parts = entry.split(\"\\t\")\n",
        "    return (parts[0], parts[1], int(parts[2]), int(parts[3]))"
      ]
    },
    {
      "cell_type": "code",
      "execution_count": 38,
      "metadata": {
        "id": "eoJOuRORMkBN"
      },
      "outputs": [],
      "source": [
        "# Apply the parse function to each social media entry\n",
        "parsed_data = social_media_data.map(parse_social_media_entry)"
      ]
    },
    {
      "cell_type": "code",
      "execution_count": 42,
      "metadata": {
        "colab": {
          "base_uri": "https://localhost:8080/"
        },
        "id": "A7Y_Kc3IMlxX",
        "outputId": "7955ff12-78ee-4472-afac-570a7569adef"
      },
      "outputs": [
        {
          "data": {
            "text/plain": [
              "[('user4', 'aHjurVmhYPQprrcM1h4i #PySpark #Analytics', 86, 29),\n",
              " ('user1', 'Ac2nRoef6LoHl7b6HfJe #MachineLearning', 71, 7),\n",
              " ('user3',\n",
              "  'bnkzmGbjG0FEvYhGGpWx #PySpark #DataScience #MachineLearning',\n",
              "  49,\n",
              "  40),\n",
              " ('user3',\n",
              "  'zow8Shu9Zly2d1qrtXER #DataScience #MachineLearning #PySpark',\n",
              "  6,\n",
              "  17)]"
            ]
          },
          "execution_count": 42,
          "metadata": {},
          "output_type": "execute_result"
        }
      ],
      "source": [
        "parsed_data.take(4)"
      ]
    },
    {
      "cell_type": "code",
      "execution_count": 43,
      "metadata": {
        "id": "KGtfwZwCM2GF"
      },
      "outputs": [],
      "source": [
        "# Transformation 1: Calculate the total engagement (likes + shares) for each user\n",
        "user_engagement = parsed_data.map(lambda x: (x[0], x[2] + x[3]))"
      ]
    },
    {
      "cell_type": "code",
      "execution_count": 44,
      "metadata": {
        "colab": {
          "base_uri": "https://localhost:8080/"
        },
        "id": "a-UsHy3JM71g",
        "outputId": "75b29194-4084-434f-da34-edb03c96edc4"
      },
      "outputs": [
        {
          "data": {
            "text/plain": [
              "[('user4', 115), ('user1', 78), ('user3', 89), ('user3', 23)]"
            ]
          },
          "execution_count": 44,
          "metadata": {},
          "output_type": "execute_result"
        }
      ],
      "source": [
        "user_engagement.take(4)"
      ]
    },
    {
      "cell_type": "code",
      "execution_count": null,
      "metadata": {},
      "outputs": [],
      "source": [
        "total_engagment = user_engagement.reduceByKey(lambda x,y: x+y)\n",
        "total_engagment.collect()"
      ]
    },
    {
      "cell_type": "code",
      "execution_count": 45,
      "metadata": {
        "id": "IUkfO6CMM_PM"
      },
      "outputs": [],
      "source": [
        "# Transformation 2: Find the top 5 users with the highest engagement\n",
        "top_users = user_engagement.takeOrdered(5, key=lambda x: -x[1])"
      ]
    },
    {
      "cell_type": "code",
      "execution_count": 49,
      "metadata": {
        "colab": {
          "base_uri": "https://localhost:8080/"
        },
        "id": "xxkzxrYzNQ3h",
        "outputId": "17645e9c-1fa4-4686-f008-8ee30682f794"
      },
      "outputs": [
        {
          "name": "stdout",
          "output_type": "stream",
          "text": [
            "Top 5 Users with Highest Engagement:\n",
            "User: user1, Engagement: 150\n",
            "User: user2, Engagement: 150\n",
            "User: user1, Engagement: 150\n",
            "User: user5, Engagement: 150\n",
            "User: user5, Engagement: 149\n"
          ]
        }
      ],
      "source": [
        "# Action 1: Display the top users\n",
        "print(\"Top 5 Users with Highest Engagement:\")\n",
        "for user, engagement in top_users:\n",
        "    print(f\"User: {user}, Engagement: {engagement}\")"
      ]
    },
    {
      "cell_type": "code",
      "execution_count": 50,
      "metadata": {
        "id": "j0ntXmSUNaNw"
      },
      "outputs": [],
      "source": [
        "# Transformation 3: Extract hashtags from post content\n",
        "def extract_hashtags(entry):\n",
        "    # Assuming hashtags start with #\n",
        "    \n",
        "    for i in entry[1].split():\n",
        "        if i.startswith(\"#\"):\n",
        "            return (i,1)\n",
        "    # return [(tag, 1) for tag in entry[1].split() if tag.startswith(\"#\")]"
      ]
    },
    {
      "cell_type": "code",
      "execution_count": 54,
      "metadata": {
        "id": "cbsHkD0QNga4"
      },
      "outputs": [],
      "source": [
        "# Apply the extract_hashtags function to each social media entry\n",
        "hashtags = parsed_data.flatMap(extract_hashtags)"
      ]
    },
    {
      "cell_type": "code",
      "execution_count": 55,
      "metadata": {
        "colab": {
          "base_uri": "https://localhost:8080/"
        },
        "id": "nHSREbPENoZw",
        "outputId": "f6793ac9-c270-4c4d-e6ec-9f31e7bb0cdd"
      },
      "outputs": [
        {
          "data": {
            "text/plain": [
              "[('#PySpark', 1),\n",
              " ('#Analytics', 1),\n",
              " ('#MachineLearning', 1),\n",
              " ('#PySpark', 1),\n",
              " ('#DataScience', 1)]"
            ]
          },
          "execution_count": 55,
          "metadata": {},
          "output_type": "execute_result"
        }
      ],
      "source": [
        "hashtags.take(5)"
      ]
    },
    {
      "cell_type": "code",
      "execution_count": 56,
      "metadata": {
        "id": "Z_pBuvKUNr7Y"
      },
      "outputs": [],
      "source": [
        "hashtag_counts = hashtags.reduceByKey(lambda x, y: x + y)"
      ]
    },
    {
      "cell_type": "code",
      "execution_count": 58,
      "metadata": {
        "colab": {
          "base_uri": "https://localhost:8080/"
        },
        "id": "_VdTgoIvN302",
        "outputId": "dd11a871-0415-4ef9-db92-9b4bf68a4653"
      },
      "outputs": [
        {
          "data": {
            "text/plain": [
              "[('#Analytics', 3901),\n",
              " ('#BigData', 4020),\n",
              " ('#PySpark', 4032),\n",
              " ('#MachineLearning', 3945),\n",
              " ('#DataScience', 4009)]"
            ]
          },
          "execution_count": 58,
          "metadata": {},
          "output_type": "execute_result"
        }
      ],
      "source": [
        "hashtag_counts.collect()"
      ]
    },
    {
      "cell_type": "code",
      "execution_count": 59,
      "metadata": {
        "id": "2OP_G-pQN6fj"
      },
      "outputs": [],
      "source": [
        "# Transformation 4: Find the top 5 hashtags\n",
        "top_hashtags = hashtag_counts.takeOrdered(5, key=lambda x: -x[1])"
      ]
    },
    {
      "cell_type": "code",
      "execution_count": 60,
      "metadata": {
        "colab": {
          "base_uri": "https://localhost:8080/"
        },
        "id": "A_udaebTOBh1",
        "outputId": "f5436156-6fb3-4d33-9cc3-051994bf52b7"
      },
      "outputs": [
        {
          "name": "stdout",
          "output_type": "stream",
          "text": [
            "\n",
            "Top 5 Hashtags:\n",
            "Hashtag: #PySpark, Count: 4032\n",
            "Hashtag: #BigData, Count: 4020\n",
            "Hashtag: #DataScience, Count: 4009\n",
            "Hashtag: #MachineLearning, Count: 3945\n",
            "Hashtag: #Analytics, Count: 3901\n"
          ]
        }
      ],
      "source": [
        "# Action 2: Display the top hashtags\n",
        "print(\"\\nTop 5 Hashtags:\")\n",
        "for hashtag, count in top_hashtags:\n",
        "    print(f\"Hashtag: {hashtag}, Count: {count}\")"
      ]
    },
    {
      "cell_type": "code",
      "execution_count": null,
      "metadata": {
        "id": "ykSsbb6KOESW"
      },
      "outputs": [],
      "source": []
    }
  ],
  "metadata": {
    "colab": {
      "provenance": []
    },
    "kernelspec": {
      "display_name": "Python 3",
      "name": "python3"
    },
    "language_info": {
      "name": "python",
      "version": "3.10.11"
    }
  },
  "nbformat": 4,
  "nbformat_minor": 0
}
