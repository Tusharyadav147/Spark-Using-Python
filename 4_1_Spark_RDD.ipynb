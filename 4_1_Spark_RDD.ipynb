{
  "nbformat": 4,
  "nbformat_minor": 0,
  "metadata": {
    "colab": {
      "provenance": []
    },
    "kernelspec": {
      "name": "python3",
      "display_name": "Python 3"
    },
    "language_info": {
      "name": "python"
    }
  },
  "cells": [
    {
      "cell_type": "code",
      "execution_count": 1,
      "metadata": {
        "id": "7OKivavECbXF",
        "colab": {
          "base_uri": "https://localhost:8080/"
        },
        "outputId": "379cb5e4-ae68-48de-9376-5e55f5474201"
      },
      "outputs": [
        {
          "output_type": "stream",
          "name": "stdout",
          "text": [
            "Collecting pyspark\n",
            "  Downloading pyspark-3.5.0.tar.gz (316.9 MB)\n",
            "\u001b[2K     \u001b[90m━━━━━━━━━━━━━━━━━━━━━━━━━━━━━━━━━━━━━━━━\u001b[0m \u001b[32m316.9/316.9 MB\u001b[0m \u001b[31m2.1 MB/s\u001b[0m eta \u001b[36m0:00:00\u001b[0m\n",
            "\u001b[?25h  Preparing metadata (setup.py) ... \u001b[?25l\u001b[?25hdone\n",
            "Requirement already satisfied: py4j==0.10.9.7 in /usr/local/lib/python3.10/dist-packages (from pyspark) (0.10.9.7)\n",
            "Building wheels for collected packages: pyspark\n",
            "  Building wheel for pyspark (setup.py) ... \u001b[?25l\u001b[?25hdone\n",
            "  Created wheel for pyspark: filename=pyspark-3.5.0-py2.py3-none-any.whl size=317425344 sha256=66a710fcdad108b61514d064f8495882a8967f7f1a82903771fb664f26709caa\n",
            "  Stored in directory: /root/.cache/pip/wheels/41/4e/10/c2cf2467f71c678cfc8a6b9ac9241e5e44a01940da8fbb17fc\n",
            "Successfully built pyspark\n",
            "Installing collected packages: pyspark\n",
            "Successfully installed pyspark-3.5.0\n"
          ]
        }
      ],
      "source": [
        "!pip install pyspark"
      ]
    },
    {
      "cell_type": "code",
      "source": [
        "from pyspark import SparkConf, SparkContext"
      ],
      "metadata": {
        "id": "LtHonoz7CqWV"
      },
      "execution_count": 2,
      "outputs": []
    },
    {
      "cell_type": "code",
      "source": [
        "if __name__ == \"__main__\":\n",
        "  conf = SparkConf().setAppName(\"Tushar\").setMaster(\"local[3]\")\n",
        "  sc = SparkContext(conf = conf)"
      ],
      "metadata": {
        "id": "38Z_Y9p9C43m"
      },
      "execution_count": 3,
      "outputs": []
    },
    {
      "cell_type": "code",
      "source": [
        "# Sample data for demonstration\n",
        "data = [\n",
        "    (\"A\", 1),\n",
        "    (\"B\", 2),\n",
        "    (\"A\", 3),\n",
        "    (\"B\", 4),\n",
        "    (\"C\", 5),\n",
        "    (\"A\", 6),\n",
        "    (\"C\", 7),\n",
        "    (\"A\", 8),\n",
        "    (\"B\", 9),\n",
        "    (\"C\", 10),\n",
        "]"
      ],
      "metadata": {
        "id": "GSZtQM14DtSS"
      },
      "execution_count": 19,
      "outputs": []
    },
    {
      "cell_type": "code",
      "source": [
        "# Create an RDD from the sample data\n",
        "rdd = sc.parallelize(data)"
      ],
      "metadata": {
        "id": "y3KgUoP1FJIf"
      },
      "execution_count": 20,
      "outputs": []
    },
    {
      "cell_type": "code",
      "source": [
        "# Transformation 1: groupBy\n",
        "grouped_data = rdd.groupBy(lambda x: x[0])"
      ],
      "metadata": {
        "id": "wLU7A5x_FK1_"
      },
      "execution_count": 21,
      "outputs": []
    },
    {
      "cell_type": "code",
      "source": [
        "# Display the result of groupBy\n",
        "print(\"groupBy:\")\n",
        "for key, values in grouped_data.collect():\n",
        "    print(f\"Key: {key}, Values: {list(values)}\")"
      ],
      "metadata": {
        "colab": {
          "base_uri": "https://localhost:8080/"
        },
        "id": "ZO88zaBHFNlw",
        "outputId": "2427dc24-9732-4581-a73f-a51edd868558"
      },
      "execution_count": 22,
      "outputs": [
        {
          "output_type": "stream",
          "name": "stdout",
          "text": [
            "groupBy:\n",
            "Key: B, Values: [('B', 2), ('B', 4), ('B', 9)]\n",
            "Key: C, Values: [('C', 5), ('C', 7), ('C', 10)]\n",
            "Key: A, Values: [('A', 1), ('A', 3), ('A', 6), ('A', 8)]\n"
          ]
        }
      ]
    },
    {
      "cell_type": "code",
      "source": [
        "# Transformation 2: groupByKey\n",
        "grouped_by_key = rdd.groupByKey()"
      ],
      "metadata": {
        "id": "4EqSYzSlGQVI"
      },
      "execution_count": 30,
      "outputs": []
    },
    {
      "cell_type": "code",
      "source": [
        "# Display the result of groupByKey\n",
        "print(\"\\ngroupByKey:\")\n",
        "for key, values in grouped_by_key.collect():\n",
        "    print(f\"Key: {key}, Values: {list(values)}\")"
      ],
      "metadata": {
        "colab": {
          "base_uri": "https://localhost:8080/"
        },
        "id": "wuvcnFELGr6v",
        "outputId": "8fa3cf14-2e0f-4b4a-fa99-28013dbb8314"
      },
      "execution_count": 31,
      "outputs": [
        {
          "output_type": "stream",
          "name": "stdout",
          "text": [
            "\n",
            "groupByKey:\n",
            "Key: B, Values: [2, 4, 9]\n",
            "Key: C, Values: [5, 7, 10]\n",
            "Key: A, Values: [1, 3, 6, 8]\n"
          ]
        }
      ]
    },
    {
      "cell_type": "code",
      "source": [
        "# Transformation 3: reduceByKey\n",
        "sum_values = rdd.reduceByKey(lambda x, y: x + y)"
      ],
      "metadata": {
        "id": "fEeX0tiqGt1X"
      },
      "execution_count": 32,
      "outputs": []
    },
    {
      "cell_type": "code",
      "source": [
        "sum_values.collect()"
      ],
      "metadata": {
        "colab": {
          "base_uri": "https://localhost:8080/"
        },
        "id": "Igj9yhweHAua",
        "outputId": "44a266b2-62c7-432c-ddb2-6d9a11d8d384"
      },
      "execution_count": 35,
      "outputs": [
        {
          "output_type": "execute_result",
          "data": {
            "text/plain": [
              "[('B', 15), ('C', 22), ('A', 18)]"
            ]
          },
          "metadata": {},
          "execution_count": 35
        }
      ]
    },
    {
      "cell_type": "code",
      "source": [
        "# Display the result of reduceByKey\n",
        "print(\"\\nreduceByKey:\")\n",
        "for key, value in sum_values.collect():\n",
        "    print(f\"Key: {key}, Sum: {value}\")"
      ],
      "metadata": {
        "colab": {
          "base_uri": "https://localhost:8080/"
        },
        "id": "wBCwJXYTG53Y",
        "outputId": "2849472a-bd31-4ea4-ec47-33fa0d8d599b"
      },
      "execution_count": 33,
      "outputs": [
        {
          "output_type": "stream",
          "name": "stdout",
          "text": [
            "\n",
            "reduceByKey:\n",
            "Key: B, Sum: 15\n",
            "Key: C, Sum: 22\n",
            "Key: A, Sum: 18\n"
          ]
        }
      ]
    },
    {
      "cell_type": "code",
      "source": [],
      "metadata": {
        "id": "GWdtVN_yG-p4"
      },
      "execution_count": null,
      "outputs": []
    }
  ]
}