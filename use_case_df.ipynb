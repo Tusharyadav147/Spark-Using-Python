{
 "cells": [
  {
   "cell_type": "markdown",
   "metadata": {},
   "source": [
    "# Load Data:\n",
    "\n",
    "Load the dataset into a PySpark DataFrame. You can use the spark.read.csv method if your data is in a CSV file."
   ]
  },
  {
   "cell_type": "code",
   "execution_count": null,
   "metadata": {},
   "outputs": [],
   "source": [
    "from pyspark.sql import SparkSession\n",
    "\n",
    "spark = SparkSession.builder.appName(\"UserActivityAnalysis\").getOrCreate()\n",
    "\n",
    "# Replace 'path/to/your/dataset.csv' with the actual path to your dataset\n",
    "df = spark.read.csv('path/to/your/dataset.csv', header=True, inferSchema=True)\n"
   ]
  },
  {
   "cell_type": "markdown",
   "metadata": {},
   "source": [
    "# Explore the Data:\n",
    "\n",
    "Check the schema of the DataFrame.\n",
    "Display the first few rows to understand the structure of the data."
   ]
  },
  {
   "cell_type": "markdown",
   "metadata": {},
   "source": [
    "df.printSchema()\n",
    "df.show(5)"
   ]
  },
  {
   "cell_type": "markdown",
   "metadata": {},
   "source": [
    "# Data Transformation:\n",
    "\n",
    "Perform any necessary data transformations. For example, you might want to convert the timestamp column to a datetime type."
   ]
  },
  {
   "cell_type": "code",
   "execution_count": null,
   "metadata": {},
   "outputs": [],
   "source": [
    "from pyspark.sql.functions import col\n",
    "from pyspark.sql.types import TimestampType\n",
    "\n",
    "df = df.withColumn('timestamp', col('timestamp').cast(TimestampType()))"
   ]
  },
  {
   "cell_type": "markdown",
   "metadata": {},
   "source": [
    "# Analysis:\n",
    "\n",
    "Calculate the total duration spent by each user on the website.\n",
    "Identify the most visited pages.\n",
    "Find the average duration of sessions."
   ]
  },
  {
   "cell_type": "code",
   "execution_count": null,
   "metadata": {},
   "outputs": [],
   "source": [
    "from pyspark.sql.functions import sum, avg\n",
    "\n",
    "total_duration_per_user = df.groupBy('user_id').agg(sum('duration').alias('total_duration'))\n",
    "most_visited_pages = df.groupBy('page_visited').count().orderBy(col('count').desc())\n",
    "avg_duration = df.groupBy().agg(avg('duration').alias('average_duration'))"
   ]
  },
  {
   "cell_type": "markdown",
   "metadata": {},
   "source": [
    "# Output/Save Results:\n",
    "\n",
    "You can save the results or insights to a file or a database for future reference."
   ]
  },
  {
   "cell_type": "markdown",
   "metadata": {},
   "source": [
    "total_duration_per_user.write.csv('path/to/save/total_duration_per_user', header=True)"
   ]
  }
 ],
 "metadata": {
  "language_info": {
   "name": "python"
  }
 },
 "nbformat": 4,
 "nbformat_minor": 2
}
